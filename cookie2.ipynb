{
 "cells": [
  {
   "cell_type": "code",
   "execution_count": 1,
   "metadata": {
    "collapsed": false
   },
   "outputs": [],
   "source": [
    "# problem 2-1\n",
    "import thinkbayes\n",
    "class Cookie2(thinkbayes.Pmf):\n",
    "    def __init__(self):\n",
    "        thinkbayes.Pmf.__init__(self)\n",
    "        self.bowls = {'Bowl 1': {'vanilla': 30, 'chocolate': 10}, 'Bowl 2': {'vanilla': 20, 'chocolate': 20}}\n",
    "        self.Set('Bowl 1', 1)\n",
    "        self.Set('Bowl 2', 1)\n",
    "    def Update(self, data):\n",
    "        for hypo in self.Values():\n",
    "            like = self.Likelihood(data, hypo)\n",
    "            self.bowls[hypo][data] -= 1\n",
    "            self.Mult(hypo, like)\n",
    "        self.Normalize()\n",
    "    def Likelihood(self, data, hypo):\n",
    "        a = self.bowls[hypo][data]\n",
    "        b = sum(self.bowls[hypo].itervalues())\n",
    "        return 1.0 * a / b"
   ]
  },
  {
   "cell_type": "code",
   "execution_count": 2,
   "metadata": {
    "collapsed": false
   },
   "outputs": [
    {
     "name": "stdout",
     "output_type": "stream",
     "text": [
      "Bowl 1 0.6\n",
      "Bowl 2 0.4\n"
     ]
    }
   ],
   "source": [
    "suite = Cookie2()\n",
    "suite.Update('vanilla')\n",
    "suite.Print()"
   ]
  },
  {
   "cell_type": "code",
   "execution_count": 3,
   "metadata": {
    "collapsed": false
   },
   "outputs": [
    {
     "name": "stdout",
     "output_type": "stream",
     "text": [
      "Bowl 1 0.696\n",
      "Bowl 2 0.304\n"
     ]
    }
   ],
   "source": [
    "suite = Cookie2()\n",
    "suite.Update('vanilla')\n",
    "suite.Update('vanilla')\n",
    "suite.Print()"
   ]
  },
  {
   "cell_type": "code",
   "execution_count": null,
   "metadata": {
    "collapsed": true
   },
   "outputs": [],
   "source": []
  }
 ],
 "metadata": {
  "kernelspec": {
   "display_name": "Python 2",
   "language": "python",
   "name": "python2"
  },
  "language_info": {
   "codemirror_mode": {
    "name": "ipython",
    "version": 2
   },
   "file_extension": ".py",
   "mimetype": "text/x-python",
   "name": "python",
   "nbconvert_exporter": "python",
   "pygments_lexer": "ipython2",
   "version": "2.7.10"
  }
 },
 "nbformat": 4,
 "nbformat_minor": 0
}
